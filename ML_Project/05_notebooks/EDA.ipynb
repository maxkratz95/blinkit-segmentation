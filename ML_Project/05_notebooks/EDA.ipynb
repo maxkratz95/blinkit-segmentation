{
 "cells": [
  {
   "attachments": {},
   "cell_type": "markdown",
   "metadata": {},
   "source": [
    "# Blinkit EDA"
   ]
  },
  {
   "attachments": {},
   "cell_type": "markdown",
   "metadata": {},
   "source": [
    "## Set Up"
   ]
  },
  {
   "cell_type": "code",
   "execution_count": 2,
   "metadata": {},
   "outputs": [],
   "source": [
    "import pandas as pd"
   ]
  },
  {
   "cell_type": "code",
   "execution_count": 3,
   "metadata": {},
   "outputs": [],
   "source": [
    "#importing datasets\n",
    "df_customer_feedback = pd.read_csv('/Users/a12345/Desktop/DATA PT /ML Project/02_data/Blinkit/blinkit_customer_feedback.csv')\n",
    "df_customers = pd.read_csv('/Users/a12345/Desktop/DATA PT /ML Project/02_data/Blinkit/blinkit_customers.csv')\n",
    "df_delivery_performance = pd.read_csv('/Users/a12345/Desktop/DATA PT /ML Project/02_data/Blinkit/blinkit_delivery_performance.csv')\n",
    "df_inventory = pd.read_csv('/Users/a12345/Desktop/DATA PT /ML Project/02_data/Blinkit/blinkit_inventory.csv')\n",
    "df_inventoryNew = pd.read_csv('/Users/a12345/Desktop/DATA PT /ML Project/02_data/Blinkit/blinkit_inventoryNew.csv')\n",
    "df_marketing_performance = pd.read_csv('/Users/a12345/Desktop/DATA PT /ML Project/02_data/Blinkit/blinkit_marketing_performance.csv')\n",
    "df_order_items = pd.read_csv('/Users/a12345/Desktop/DATA PT /ML Project/02_data/Blinkit/blinkit_order_items.csv')\n",
    "df_orders = pd.read_csv('/Users/a12345/Desktop/DATA PT /ML Project/02_data/Blinkit/blinkit_orders.csv')\n",
    "df_products = pd.read_csv('/Users/a12345/Desktop/DATA PT /ML Project/02_data/Blinkit/blinkit_products.csv')"
   ]
  },
  {
   "attachments": {},
   "cell_type": "markdown",
   "metadata": {},
   "source": [
    "## Initial Peak"
   ]
  },
  {
   "cell_type": "markdown",
   "metadata": {},
   "source": [
    "### Customer Feedback"
   ]
  },
  {
   "cell_type": "code",
   "execution_count": 4,
   "metadata": {},
   "outputs": [
    {
     "data": {
      "text/plain": [
       "feedback_id           int64\n",
       "order_id              int64\n",
       "customer_id           int64\n",
       "rating                int64\n",
       "feedback_text        object\n",
       "feedback_category    object\n",
       "sentiment            object\n",
       "feedback_date        object\n",
       "dtype: object"
      ]
     },
     "execution_count": 4,
     "metadata": {},
     "output_type": "execute_result"
    }
   ],
   "source": [
    "df_customer_feedback.dtypes"
   ]
  },
  {
   "cell_type": "code",
   "execution_count": 5,
   "metadata": {},
   "outputs": [
    {
     "name": "stdout",
     "output_type": "stream",
     "text": [
      "<class 'pandas.core.frame.DataFrame'>\n",
      "RangeIndex: 5000 entries, 0 to 4999\n",
      "Data columns (total 8 columns):\n",
      " #   Column             Non-Null Count  Dtype \n",
      "---  ------             --------------  ----- \n",
      " 0   feedback_id        5000 non-null   int64 \n",
      " 1   order_id           5000 non-null   int64 \n",
      " 2   customer_id        5000 non-null   int64 \n",
      " 3   rating             5000 non-null   int64 \n",
      " 4   feedback_text      5000 non-null   object\n",
      " 5   feedback_category  5000 non-null   object\n",
      " 6   sentiment          5000 non-null   object\n",
      " 7   feedback_date      5000 non-null   object\n",
      "dtypes: int64(4), object(4)\n",
      "memory usage: 312.6+ KB\n"
     ]
    }
   ],
   "source": [
    "df_customer_feedback.info()"
   ]
  },
  {
   "attachments": {},
   "cell_type": "markdown",
   "metadata": {},
   "source": [
    "Looks like there are no nulls"
   ]
  },
  {
   "cell_type": "code",
   "execution_count": 6,
   "metadata": {},
   "outputs": [
    {
     "data": {
      "text/plain": [
       "feedback_id  order_id  customer_id  rating  feedback_text  feedback_category  sentiment  feedback_date\n",
       "False        False     False        False   False          False              False      False            5000\n",
       "dtype: int64"
      ]
     },
     "execution_count": 6,
     "metadata": {},
     "output_type": "execute_result"
    }
   ],
   "source": [
    "df_customer_feedback.isna().value_counts()"
   ]
  },
  {
   "cell_type": "code",
   "execution_count": 7,
   "metadata": {},
   "outputs": [
    {
     "data": {
      "text/html": [
       "<div>\n",
       "<style scoped>\n",
       "    .dataframe tbody tr th:only-of-type {\n",
       "        vertical-align: middle;\n",
       "    }\n",
       "\n",
       "    .dataframe tbody tr th {\n",
       "        vertical-align: top;\n",
       "    }\n",
       "\n",
       "    .dataframe thead th {\n",
       "        text-align: right;\n",
       "    }\n",
       "</style>\n",
       "<table border=\"1\" class=\"dataframe\">\n",
       "  <thead>\n",
       "    <tr style=\"text-align: right;\">\n",
       "      <th></th>\n",
       "      <th>feedback_id</th>\n",
       "      <th>order_id</th>\n",
       "      <th>customer_id</th>\n",
       "      <th>rating</th>\n",
       "    </tr>\n",
       "  </thead>\n",
       "  <tbody>\n",
       "    <tr>\n",
       "      <th>count</th>\n",
       "      <td>5.000000e+03</td>\n",
       "      <td>5.000000e+03</td>\n",
       "      <td>5.000000e+03</td>\n",
       "      <td>5000.00000</td>\n",
       "    </tr>\n",
       "    <tr>\n",
       "      <th>mean</th>\n",
       "      <td>5.013616e+06</td>\n",
       "      <td>5.029129e+09</td>\n",
       "      <td>5.009685e+07</td>\n",
       "      <td>3.34440</td>\n",
       "    </tr>\n",
       "    <tr>\n",
       "      <th>std</th>\n",
       "      <td>2.857341e+06</td>\n",
       "      <td>2.863533e+09</td>\n",
       "      <td>2.919082e+07</td>\n",
       "      <td>1.18982</td>\n",
       "    </tr>\n",
       "    <tr>\n",
       "      <th>min</th>\n",
       "      <td>9.470000e+02</td>\n",
       "      <td>6.046500e+04</td>\n",
       "      <td>3.181300e+04</td>\n",
       "      <td>1.00000</td>\n",
       "    </tr>\n",
       "    <tr>\n",
       "      <th>25%</th>\n",
       "      <td>2.576690e+06</td>\n",
       "      <td>2.531421e+09</td>\n",
       "      <td>2.404314e+07</td>\n",
       "      <td>3.00000</td>\n",
       "    </tr>\n",
       "    <tr>\n",
       "      <th>50%</th>\n",
       "      <td>5.005833e+06</td>\n",
       "      <td>5.074378e+09</td>\n",
       "      <td>4.997808e+07</td>\n",
       "      <td>4.00000</td>\n",
       "    </tr>\n",
       "    <tr>\n",
       "      <th>75%</th>\n",
       "      <td>7.486478e+06</td>\n",
       "      <td>7.488579e+09</td>\n",
       "      <td>7.621215e+07</td>\n",
       "      <td>4.00000</td>\n",
       "    </tr>\n",
       "    <tr>\n",
       "      <th>max</th>\n",
       "      <td>9.999293e+06</td>\n",
       "      <td>9.998298e+09</td>\n",
       "      <td>9.989390e+07</td>\n",
       "      <td>5.00000</td>\n",
       "    </tr>\n",
       "  </tbody>\n",
       "</table>\n",
       "</div>"
      ],
      "text/plain": [
       "        feedback_id      order_id   customer_id      rating\n",
       "count  5.000000e+03  5.000000e+03  5.000000e+03  5000.00000\n",
       "mean   5.013616e+06  5.029129e+09  5.009685e+07     3.34440\n",
       "std    2.857341e+06  2.863533e+09  2.919082e+07     1.18982\n",
       "min    9.470000e+02  6.046500e+04  3.181300e+04     1.00000\n",
       "25%    2.576690e+06  2.531421e+09  2.404314e+07     3.00000\n",
       "50%    5.005833e+06  5.074378e+09  4.997808e+07     4.00000\n",
       "75%    7.486478e+06  7.488579e+09  7.621215e+07     4.00000\n",
       "max    9.999293e+06  9.998298e+09  9.989390e+07     5.00000"
      ]
     },
     "execution_count": 7,
     "metadata": {},
     "output_type": "execute_result"
    }
   ],
   "source": [
    "df_customer_feedback.describe()"
   ]
  },
  {
   "attachments": {},
   "cell_type": "markdown",
   "metadata": {},
   "source": [
    "Mean Rating of 3.3 is just above the mid, doesn't sound so good."
   ]
  },
  {
   "cell_type": "code",
   "execution_count": 8,
   "metadata": {},
   "outputs": [
    {
     "data": {
      "text/plain": [
       "4.0"
      ]
     },
     "execution_count": 8,
     "metadata": {},
     "output_type": "execute_result"
    }
   ],
   "source": [
    "df_customer_feedback.rating.median()"
   ]
  },
  {
   "attachments": {},
   "cell_type": "markdown",
   "metadata": {},
   "source": [
    "Might not be sorted"
   ]
  },
  {
   "cell_type": "code",
   "execution_count": 9,
   "metadata": {},
   "outputs": [],
   "source": [
    "import matplotlib as mp\n",
    "import matplotlib.pyplot as plt  # Use 'plt' instead of 'mp'"
   ]
  },
  {
   "cell_type": "code",
   "execution_count": 10,
   "metadata": {},
   "outputs": [
    {
     "data": {
      "image/png": "[encoded data removed]",
      "text/plain": [
       "<Figure size 640x480 with 1 Axes>"
      ]
     },
     "metadata": {},
     "output_type": "display_data"
    }
   ],
   "source": [
    "# Create the boxplot\n",
    "plt.figure()\n",
    "plt.boxplot(df_customer_feedback[\"rating\"], vert=True, patch_artist=True)\n",
    "plt.title(\"Boxplot of Customer Feedback Ratings\")\n",
    "plt.xlabel(\"Rating\")\n",
    "\n",
    "plt.show()"
   ]
  },
  {
   "attachments": {},
   "cell_type": "markdown",
   "metadata": {},
   "source": [
    "### Customers"
   ]
  },
  {
   "cell_type": "code",
   "execution_count": 11,
   "metadata": {},
   "outputs": [
    {
     "data": {
      "text/html": [
       "<div>\n",
       "<style scoped>\n",
       "    .dataframe tbody tr th:only-of-type {\n",
       "        vertical-align: middle;\n",
       "    }\n",
       "\n",
       "    .dataframe tbody tr th {\n",
       "        vertical-align: top;\n",
       "    }\n",
       "\n",
       "    .dataframe thead th {\n",
       "        text-align: right;\n",
       "    }\n",
       "</style>\n",
       "<table border=\"1\" class=\"dataframe\">\n",
       "  <thead>\n",
       "    <tr style=\"text-align: right;\">\n",
       "      <th></th>\n",
       "      <th>customer_id</th>\n",
       "      <th>phone</th>\n",
       "      <th>pincode</th>\n",
       "      <th>total_orders</th>\n",
       "      <th>avg_order_value</th>\n",
       "    </tr>\n",
       "  </thead>\n",
       "  <tbody>\n",
       "    <tr>\n",
       "      <th>count</th>\n",
       "      <td>2.500000e+03</td>\n",
       "      <td>2.500000e+03</td>\n",
       "      <td>2500.000000</td>\n",
       "      <td>2500.000000</td>\n",
       "      <td>2500.000000</td>\n",
       "    </tr>\n",
       "    <tr>\n",
       "      <th>mean</th>\n",
       "      <td>4.989961e+07</td>\n",
       "      <td>9.150532e+11</td>\n",
       "      <td>497653.183200</td>\n",
       "      <td>10.491600</td>\n",
       "      <td>1102.375836</td>\n",
       "    </tr>\n",
       "    <tr>\n",
       "      <th>std</th>\n",
       "      <td>2.919266e+07</td>\n",
       "      <td>2.882835e+09</td>\n",
       "      <td>281167.293249</td>\n",
       "      <td>5.805533</td>\n",
       "      <td>523.043183</td>\n",
       "    </tr>\n",
       "    <tr>\n",
       "      <th>min</th>\n",
       "      <td>3.181300e+04</td>\n",
       "      <td>9.100132e+11</td>\n",
       "      <td>666.000000</td>\n",
       "      <td>1.000000</td>\n",
       "      <td>200.430000</td>\n",
       "    </tr>\n",
       "    <tr>\n",
       "      <th>25%</th>\n",
       "      <td>2.402443e+07</td>\n",
       "      <td>9.125946e+11</td>\n",
       "      <td>257079.750000</td>\n",
       "      <td>6.000000</td>\n",
       "      <td>631.817500</td>\n",
       "    </tr>\n",
       "    <tr>\n",
       "      <th>50%</th>\n",
       "      <td>5.000044e+07</td>\n",
       "      <td>9.150236e+11</td>\n",
       "      <td>498662.000000</td>\n",
       "      <td>10.000000</td>\n",
       "      <td>1118.650000</td>\n",
       "    </tr>\n",
       "    <tr>\n",
       "      <th>75%</th>\n",
       "      <td>7.595459e+07</td>\n",
       "      <td>9.176256e+11</td>\n",
       "      <td>740668.000000</td>\n",
       "      <td>16.000000</td>\n",
       "      <td>1565.400000</td>\n",
       "    </tr>\n",
       "    <tr>\n",
       "      <th>max</th>\n",
       "      <td>9.989390e+07</td>\n",
       "      <td>9.199988e+11</td>\n",
       "      <td>999631.000000</td>\n",
       "      <td>20.000000</td>\n",
       "      <td>1999.830000</td>\n",
       "    </tr>\n",
       "  </tbody>\n",
       "</table>\n",
       "</div>"
      ],
      "text/plain": [
       "        customer_id         phone        pincode  total_orders  \\\n",
       "count  2.500000e+03  2.500000e+03    2500.000000   2500.000000   \n",
       "mean   4.989961e+07  9.150532e+11  497653.183200     10.491600   \n",
       "std    2.919266e+07  2.882835e+09  281167.293249      5.805533   \n",
       "min    3.181300e+04  9.100132e+11     666.000000      1.000000   \n",
       "25%    2.402443e+07  9.125946e+11  257079.750000      6.000000   \n",
       "50%    5.000044e+07  9.150236e+11  498662.000000     10.000000   \n",
       "75%    7.595459e+07  9.176256e+11  740668.000000     16.000000   \n",
       "max    9.989390e+07  9.199988e+11  999631.000000     20.000000   \n",
       "\n",
       "       avg_order_value  \n",
       "count      2500.000000  \n",
       "mean       1102.375836  \n",
       "std         523.043183  \n",
       "min         200.430000  \n",
       "25%         631.817500  \n",
       "50%        1118.650000  \n",
       "75%        1565.400000  \n",
       "max        1999.830000  "
      ]
     },
     "execution_count": 11,
     "metadata": {},
     "output_type": "execute_result"
    }
   ],
   "source": [
    "df_customers.describe()"
   ]
  },
  {
   "cell_type": "code",
   "execution_count": 12,
   "metadata": {},
   "outputs": [
    {
     "name": "stdout",
     "output_type": "stream",
     "text": [
      "<class 'pandas.core.frame.DataFrame'>\n",
      "RangeIndex: 2500 entries, 0 to 2499\n",
      "Data columns (total 11 columns):\n",
      " #   Column             Non-Null Count  Dtype  \n",
      "---  ------             --------------  -----  \n",
      " 0   customer_id        2500 non-null   int64  \n",
      " 1   customer_name      2500 non-null   object \n",
      " 2   email              2500 non-null   object \n",
      " 3   phone              2500 non-null   int64  \n",
      " 4   address            2500 non-null   object \n",
      " 5   area               2500 non-null   object \n",
      " 6   pincode            2500 non-null   int64  \n",
      " 7   registration_date  2500 non-null   object \n",
      " 8   customer_segment   2500 non-null   object \n",
      " 9   total_orders       2500 non-null   int64  \n",
      " 10  avg_order_value    2500 non-null   float64\n",
      "dtypes: float64(1), int64(4), object(6)\n",
      "memory usage: 215.0+ KB\n"
     ]
    }
   ],
   "source": [
    "df_customers.info()"
   ]
  },
  {
   "cell_type": "code",
   "execution_count": 13,
   "metadata": {},
   "outputs": [
    {
     "data": {
      "text/plain": [
       "0        Premium\n",
       "1       Inactive\n",
       "2        Regular\n",
       "3            New\n",
       "4       Inactive\n",
       "          ...   \n",
       "2495    Inactive\n",
       "2496     Regular\n",
       "2497     Regular\n",
       "2498     Premium\n",
       "2499    Inactive\n",
       "Name: customer_segment, Length: 2500, dtype: object"
      ]
     },
     "execution_count": 13,
     "metadata": {},
     "output_type": "execute_result"
    }
   ],
   "source": [
    "df_customers.customer_segment"
   ]
  },
  {
   "cell_type": "code",
   "execution_count": 14,
   "metadata": {},
   "outputs": [
    {
     "data": {
      "text/plain": [
       "array(['Premium', 'Inactive', 'Regular', 'New'], dtype=object)"
      ]
     },
     "execution_count": 14,
     "metadata": {},
     "output_type": "execute_result"
    }
   ],
   "source": [
    "df_customers.customer_segment.unique()"
   ]
  },
  {
   "cell_type": "code",
   "execution_count": 15,
   "metadata": {},
   "outputs": [
    {
     "data": {
      "text/plain": [
       "Jalna        18\n",
       "Deoghar      17\n",
       "Orai         17\n",
       "Bathinda     17\n",
       "Ratlam       16\n",
       "             ..\n",
       "Bokaro        3\n",
       "Cuttack       3\n",
       "Kurnool       3\n",
       "Phusro        2\n",
       "Mangalore     1\n",
       "Name: area, Length: 316, dtype: int64"
      ]
     },
     "execution_count": 15,
     "metadata": {},
     "output_type": "execute_result"
    }
   ],
   "source": [
    "df_customers.area.value_counts()"
   ]
  },
  {
   "attachments": {},
   "cell_type": "markdown",
   "metadata": {},
   "source": [
    "## Orders"
   ]
  },
  {
   "cell_type": "code",
   "execution_count": 17,
   "metadata": {},
   "outputs": [
    {
     "data": {
      "text/html": [
       "<div>\n",
       "<style scoped>\n",
       "    .dataframe tbody tr th:only-of-type {\n",
       "        vertical-align: middle;\n",
       "    }\n",
       "\n",
       "    .dataframe tbody tr th {\n",
       "        vertical-align: top;\n",
       "    }\n",
       "\n",
       "    .dataframe thead th {\n",
       "        text-align: right;\n",
       "    }\n",
       "</style>\n",
       "<table border=\"1\" class=\"dataframe\">\n",
       "  <thead>\n",
       "    <tr style=\"text-align: right;\">\n",
       "      <th></th>\n",
       "      <th>order_id</th>\n",
       "      <th>customer_id</th>\n",
       "      <th>order_date</th>\n",
       "      <th>promised_delivery_time</th>\n",
       "      <th>actual_delivery_time</th>\n",
       "      <th>delivery_status</th>\n",
       "      <th>order_total</th>\n",
       "      <th>payment_method</th>\n",
       "      <th>delivery_partner_id</th>\n",
       "      <th>store_id</th>\n",
       "    </tr>\n",
       "  </thead>\n",
       "  <tbody>\n",
       "    <tr>\n",
       "      <th>0</th>\n",
       "      <td>1961864118</td>\n",
       "      <td>30065862</td>\n",
       "      <td>2024-07-17 08:34:01</td>\n",
       "      <td>2024-07-17 08:52:01</td>\n",
       "      <td>2024-07-17 08:47:01</td>\n",
       "      <td>On Time</td>\n",
       "      <td>3197.07</td>\n",
       "      <td>Cash</td>\n",
       "      <td>63230</td>\n",
       "      <td>4771</td>\n",
       "    </tr>\n",
       "    <tr>\n",
       "      <th>1</th>\n",
       "      <td>1549769649</td>\n",
       "      <td>9573071</td>\n",
       "      <td>2024-05-28 13:14:29</td>\n",
       "      <td>2024-05-28 13:25:29</td>\n",
       "      <td>2024-05-28 13:27:29</td>\n",
       "      <td>On Time</td>\n",
       "      <td>976.55</td>\n",
       "      <td>Cash</td>\n",
       "      <td>14983</td>\n",
       "      <td>7534</td>\n",
       "    </tr>\n",
       "    <tr>\n",
       "      <th>2</th>\n",
       "      <td>9185164487</td>\n",
       "      <td>45477575</td>\n",
       "      <td>2024-09-23 13:07:12</td>\n",
       "      <td>2024-09-23 13:25:12</td>\n",
       "      <td>2024-09-23 13:29:12</td>\n",
       "      <td>On Time</td>\n",
       "      <td>839.05</td>\n",
       "      <td>UPI</td>\n",
       "      <td>39859</td>\n",
       "      <td>9886</td>\n",
       "    </tr>\n",
       "    <tr>\n",
       "      <th>3</th>\n",
       "      <td>9644738826</td>\n",
       "      <td>88067569</td>\n",
       "      <td>2023-11-24 16:16:56</td>\n",
       "      <td>2023-11-24 16:34:56</td>\n",
       "      <td>2023-11-24 16:33:56</td>\n",
       "      <td>On Time</td>\n",
       "      <td>440.23</td>\n",
       "      <td>Card</td>\n",
       "      <td>61497</td>\n",
       "      <td>7917</td>\n",
       "    </tr>\n",
       "    <tr>\n",
       "      <th>4</th>\n",
       "      <td>5427684290</td>\n",
       "      <td>83298567</td>\n",
       "      <td>2023-11-20 05:00:39</td>\n",
       "      <td>2023-11-20 05:17:39</td>\n",
       "      <td>2023-11-20 05:18:39</td>\n",
       "      <td>On Time</td>\n",
       "      <td>2526.68</td>\n",
       "      <td>Cash</td>\n",
       "      <td>84315</td>\n",
       "      <td>2741</td>\n",
       "    </tr>\n",
       "  </tbody>\n",
       "</table>\n",
       "</div>"
      ],
      "text/plain": [
       "     order_id  customer_id           order_date promised_delivery_time  \\\n",
       "0  1961864118     30065862  2024-07-17 08:34:01    2024-07-17 08:52:01   \n",
       "1  1549769649      9573071  2024-05-28 13:14:29    2024-05-28 13:25:29   \n",
       "2  9185164487     45477575  2024-09-23 13:07:12    2024-09-23 13:25:12   \n",
       "3  9644738826     88067569  2023-11-24 16:16:56    2023-11-24 16:34:56   \n",
       "4  5427684290     83298567  2023-11-20 05:00:39    2023-11-20 05:17:39   \n",
       "\n",
       "  actual_delivery_time delivery_status  order_total payment_method  \\\n",
       "0  2024-07-17 08:47:01         On Time      3197.07           Cash   \n",
       "1  2024-05-28 13:27:29         On Time       976.55           Cash   \n",
       "2  2024-09-23 13:29:12         On Time       839.05            UPI   \n",
       "3  2023-11-24 16:33:56         On Time       440.23           Card   \n",
       "4  2023-11-20 05:18:39         On Time      2526.68           Cash   \n",
       "\n",
       "   delivery_partner_id  store_id  \n",
       "0                63230      4771  \n",
       "1                14983      7534  \n",
       "2                39859      9886  \n",
       "3                61497      7917  \n",
       "4                84315      2741  "
      ]
     },
     "execution_count": 17,
     "metadata": {},
     "output_type": "execute_result"
    }
   ],
   "source": [
    "df_orders.head()"
   ]
  },
  {
   "cell_type": "code",
   "execution_count": 18,
   "metadata": {},
   "outputs": [
    {
     "data": {
      "text/html": [
       "<div>\n",
       "<style scoped>\n",
       "    .dataframe tbody tr th:only-of-type {\n",
       "        vertical-align: middle;\n",
       "    }\n",
       "\n",
       "    .dataframe tbody tr th {\n",
       "        vertical-align: top;\n",
       "    }\n",
       "\n",
       "    .dataframe thead th {\n",
       "        text-align: right;\n",
       "    }\n",
       "</style>\n",
       "<table border=\"1\" class=\"dataframe\">\n",
       "  <thead>\n",
       "    <tr style=\"text-align: right;\">\n",
       "      <th></th>\n",
       "      <th>order_id</th>\n",
       "      <th>product_id</th>\n",
       "      <th>quantity</th>\n",
       "      <th>unit_price</th>\n",
       "    </tr>\n",
       "  </thead>\n",
       "  <tbody>\n",
       "    <tr>\n",
       "      <th>0</th>\n",
       "      <td>1961864118</td>\n",
       "      <td>642612</td>\n",
       "      <td>3</td>\n",
       "      <td>517.03</td>\n",
       "    </tr>\n",
       "    <tr>\n",
       "      <th>1</th>\n",
       "      <td>1549769649</td>\n",
       "      <td>378676</td>\n",
       "      <td>1</td>\n",
       "      <td>881.42</td>\n",
       "    </tr>\n",
       "    <tr>\n",
       "      <th>2</th>\n",
       "      <td>9185164487</td>\n",
       "      <td>741341</td>\n",
       "      <td>2</td>\n",
       "      <td>923.84</td>\n",
       "    </tr>\n",
       "    <tr>\n",
       "      <th>3</th>\n",
       "      <td>9644738826</td>\n",
       "      <td>561860</td>\n",
       "      <td>1</td>\n",
       "      <td>874.78</td>\n",
       "    </tr>\n",
       "    <tr>\n",
       "      <th>4</th>\n",
       "      <td>5427684290</td>\n",
       "      <td>602241</td>\n",
       "      <td>2</td>\n",
       "      <td>976.55</td>\n",
       "    </tr>\n",
       "  </tbody>\n",
       "</table>\n",
       "</div>"
      ],
      "text/plain": [
       "     order_id  product_id  quantity  unit_price\n",
       "0  1961864118      642612         3      517.03\n",
       "1  1549769649      378676         1      881.42\n",
       "2  9185164487      741341         2      923.84\n",
       "3  9644738826      561860         1      874.78\n",
       "4  5427684290      602241         2      976.55"
      ]
     },
     "execution_count": 18,
     "metadata": {},
     "output_type": "execute_result"
    }
   ],
   "source": [
    "df_order_items.head()"
   ]
  },
  {
   "cell_type": "code",
   "execution_count": null,
   "metadata": {},
   "outputs": [],
   "source": []
  }
 ],
 "metadata": {
  "kernelspec": {
   "display_name": "base",
   "language": "python",
   "name": "python3"
  },
  "language_info": {
   "codemirror_mode": {
    "name": "ipython",
    "version": 3
   },
   "file_extension": ".py",
   "mimetype": "text/x-python",
   "name": "python",
   "nbconvert_exporter": "python",
   "pygments_lexer": "ipython3",
   "version": "3.11.4"
  },
  "orig_nbformat": 4,
  "vscode": {
   "interpreter": {
    "hash": "5d13fcd122f9bf4e1c65d5c83921c711df86d65f24857f3d36168027b977a8c3"
   }
  }
 },
 "nbformat": 4,
 "nbformat_minor": 2
}
