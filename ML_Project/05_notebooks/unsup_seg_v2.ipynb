{
 "cells": [
  {
   "cell_type": "code",
   "execution_count": 43,
   "metadata": {},
   "outputs": [],
   "source": [
    "import pandas as pd\n",
    "import numpy as np\n",
    "from sklearn.preprocessing import StandardScaler\n",
    "from sklearn.cluster import KMeans\n",
    "import matplotlib.pyplot as plt\n",
    "import seaborn as sns"
   ]
  },
  {
   "cell_type": "code",
   "execution_count": 44,
   "metadata": {},
   "outputs": [],
   "source": [
    "#loading datasets\n",
    "customers_df = pd.read_csv(\"/Users/a12345/Desktop/DATA PT /ML Project/02_data/Blinkit/blinkit_customers.csv\")\n",
    "orders_df = pd.read_csv(\"/Users/a12345/Desktop/DATA PT /ML Project/02_data/Blinkit/blinkit_orders.csv\")\n",
    "order_items_df = pd.read_csv(\"/Users/a12345/Desktop/DATA PT /ML Project/02_data/Blinkit/blinkit_order_items.csv\")\n",
    "feedback_df = pd.read_csv(\"/Users/a12345/Desktop/DATA PT /ML Project/02_data/Blinkit/blinkit_customer_feedback.csv\")"
   ]
  },
  {
   "cell_type": "code",
   "execution_count": 61,
   "metadata": {},
   "outputs": [
    {
     "data": {
      "text/html": [
       "<div>\n",
       "<style scoped>\n",
       "    .dataframe tbody tr th:only-of-type {\n",
       "        vertical-align: middle;\n",
       "    }\n",
       "\n",
       "    .dataframe tbody tr th {\n",
       "        vertical-align: top;\n",
       "    }\n",
       "\n",
       "    .dataframe thead th {\n",
       "        text-align: right;\n",
       "    }\n",
       "</style>\n",
       "<table border=\"1\" class=\"dataframe\">\n",
       "  <thead>\n",
       "    <tr style=\"text-align: right;\">\n",
       "      <th></th>\n",
       "      <th>feedback_id</th>\n",
       "      <th>order_id</th>\n",
       "      <th>customer_id</th>\n",
       "      <th>rating</th>\n",
       "      <th>feedback_text</th>\n",
       "      <th>feedback_category</th>\n",
       "      <th>sentiment</th>\n",
       "      <th>feedback_date</th>\n",
       "    </tr>\n",
       "  </thead>\n",
       "  <tbody>\n",
       "    <tr>\n",
       "      <th>0</th>\n",
       "      <td>2234710</td>\n",
       "      <td>1961864118</td>\n",
       "      <td>30065862</td>\n",
       "      <td>4</td>\n",
       "      <td>It was okay, nothing special.</td>\n",
       "      <td>Delivery</td>\n",
       "      <td>Neutral</td>\n",
       "      <td>2024-07-17</td>\n",
       "    </tr>\n",
       "    <tr>\n",
       "      <th>1</th>\n",
       "      <td>5450964</td>\n",
       "      <td>1549769649</td>\n",
       "      <td>9573071</td>\n",
       "      <td>3</td>\n",
       "      <td>The order was incorrect.</td>\n",
       "      <td>App Experience</td>\n",
       "      <td>Negative</td>\n",
       "      <td>2024-05-28</td>\n",
       "    </tr>\n",
       "    <tr>\n",
       "      <th>2</th>\n",
       "      <td>482108</td>\n",
       "      <td>9185164487</td>\n",
       "      <td>45477575</td>\n",
       "      <td>3</td>\n",
       "      <td>It was okay, nothing special.</td>\n",
       "      <td>App Experience</td>\n",
       "      <td>Neutral</td>\n",
       "      <td>2024-09-23</td>\n",
       "    </tr>\n",
       "    <tr>\n",
       "      <th>3</th>\n",
       "      <td>4823104</td>\n",
       "      <td>9644738826</td>\n",
       "      <td>88067569</td>\n",
       "      <td>4</td>\n",
       "      <td>The product met my expectations.</td>\n",
       "      <td>App Experience</td>\n",
       "      <td>Neutral</td>\n",
       "      <td>2023-11-24</td>\n",
       "    </tr>\n",
       "    <tr>\n",
       "      <th>4</th>\n",
       "      <td>3537464</td>\n",
       "      <td>5427684290</td>\n",
       "      <td>83298567</td>\n",
       "      <td>3</td>\n",
       "      <td>Product was damaged during delivery.</td>\n",
       "      <td>Delivery</td>\n",
       "      <td>Negative</td>\n",
       "      <td>2023-11-20</td>\n",
       "    </tr>\n",
       "  </tbody>\n",
       "</table>\n",
       "</div>"
      ],
      "text/plain": [
       "   feedback_id    order_id  customer_id  rating  \\\n",
       "0      2234710  1961864118     30065862       4   \n",
       "1      5450964  1549769649      9573071       3   \n",
       "2       482108  9185164487     45477575       3   \n",
       "3      4823104  9644738826     88067569       4   \n",
       "4      3537464  5427684290     83298567       3   \n",
       "\n",
       "                          feedback_text feedback_category sentiment  \\\n",
       "0         It was okay, nothing special.          Delivery   Neutral   \n",
       "1              The order was incorrect.    App Experience  Negative   \n",
       "2         It was okay, nothing special.    App Experience   Neutral   \n",
       "3      The product met my expectations.    App Experience   Neutral   \n",
       "4  Product was damaged during delivery.          Delivery  Negative   \n",
       "\n",
       "  feedback_date  \n",
       "0    2024-07-17  \n",
       "1    2024-05-28  \n",
       "2    2024-09-23  \n",
       "3    2023-11-24  \n",
       "4    2023-11-20  "
      ]
     },
     "execution_count": 61,
     "metadata": {},
     "output_type": "execute_result"
    }
   ],
   "source": [
    "feedback_df.head()"
   ]
  },
  {
   "cell_type": "code",
   "execution_count": 45,
   "metadata": {},
   "outputs": [],
   "source": [
    "#merge datasets\n",
    "merged_df = customers_df.merge(orders_df, on=\"customer_id\", how=\"left\")\n",
    "merged_df = merged_df.merge(order_items_df, on=\"order_id\", how=\"left\")\n",
    "merged_df = merged_df.merge(feedback_df[['customer_id', 'rating', 'sentiment']], on=\"customer_id\", how=\"left\")"
   ]
  },
  {
   "cell_type": "code",
   "execution_count": 46,
   "metadata": {},
   "outputs": [],
   "source": [
    "#Feature Engineering\n",
    "merged_df[\"registration_date\"] = pd.to_datetime(merged_df[\"registration_date\"])\n",
    "merged_df[\"tenure_days\"] = (pd.to_datetime(\"today\") - merged_df[\"registration_date\"]).dt.days\n",
    "merged_df[\"total_spent\"] = merged_df[\"quantity\"] * merged_df[\"unit_price\"]"
   ]
  },
  {
   "cell_type": "code",
   "execution_count": 47,
   "metadata": {},
   "outputs": [],
   "source": [
    "# Aggregate features for clustering\n",
    "cluster_df = merged_df.groupby(\"customer_id\").agg(\n",
    "    total_orders=(\"order_id\", \"nunique\"),\n",
    "    avg_order_value=(\"order_total\", \"mean\"),\n",
    "    total_spent=(\"total_spent\", \"sum\"),\n",
    "    avg_quantity_per_order=(\"quantity\", \"mean\"),\n",
    "    avg_rating=(\"rating\", \"mean\"),\n",
    "    sentiment_score=(\"sentiment\", lambda x: (x == \"positive\").mean()),\n",
    "    tenure_days=(\"tenure_days\", \"mean\")\n",
    ").reset_index()"
   ]
  },
  {
   "cell_type": "code",
   "execution_count": 48,
   "metadata": {},
   "outputs": [],
   "source": [
    "#drop customer_id\n",
    "cluster_df.drop(columns=[\"customer_id\"], inplace=True)\n",
    "\n",
    "#dropping sentiment score\n",
    "cluster_df.drop(columns=[\"sentiment_score\"], inplace=True)\n",
    "\n",
    "#filling missing values\n",
    "cluster_df.fillna(cluster_df.mean(), inplace=True)"
   ]
  },
  {
   "cell_type": "code",
   "execution_count": 49,
   "metadata": {},
   "outputs": [],
   "source": [
    "#Standard Scaler\n",
    "scaler = StandardScaler()\n",
    "cluster_scaled = scaler.fit_transform(cluster_df)"
   ]
  },
  {
   "cell_type": "code",
   "execution_count": 50,
   "metadata": {},
   "outputs": [
    {
     "data": {
      "image/png": "[encoded data removed]",
      "text/plain": [
       "<Figure size 800x500 with 1 Axes>"
      ]
     },
     "metadata": {},
     "output_type": "display_data"
    }
   ],
   "source": [
    "#Elbow Method\n",
    "inertia = []\n",
    "k_values = range(2, 11)\n",
    "for k in k_values:\n",
    "    kmeans = KMeans(n_clusters=k, random_state=42, n_init=10)\n",
    "    kmeans.fit(cluster_scaled)\n",
    "    inertia.append(kmeans.inertia_)\n",
    "\n",
    "#visualising\n",
    "plt.figure(figsize=(8, 5))\n",
    "plt.plot(k_values, inertia, marker='o', linestyle='-', color='b')\n",
    "plt.xlabel(\"Number of Clusters (k)\")\n",
    "plt.ylabel(\"Inertia (Within-cluster Sum of Squares)\")\n",
    "plt.title(\"Elbow Method for Optimal k\")\n",
    "plt.grid(True)\n",
    "plt.show()"
   ]
  },
  {
   "cell_type": "code",
   "execution_count": 51,
   "metadata": {},
   "outputs": [
    {
     "data": {
      "text/plain": [
       "3"
      ]
     },
     "execution_count": 51,
     "metadata": {},
     "output_type": "execute_result"
    }
   ],
   "source": [
    "# Apply K-Means clustering with optimal k\n",
    "optimal_k = k_values[np.argmin(np.diff(inertia)) + 1]\n",
    "kmeans = KMeans(n_clusters=optimal_k, random_state=42, n_init=10)\n",
    "cluster_df[\"cluster\"] = kmeans.fit_predict(cluster_scaled)\n",
    "\n",
    "optimal_k"
   ]
  },
  {
   "cell_type": "code",
   "execution_count": 52,
   "metadata": {},
   "outputs": [
    {
     "data": {
      "text/html": [
       "<div>\n",
       "<style scoped>\n",
       "    .dataframe tbody tr th:only-of-type {\n",
       "        vertical-align: middle;\n",
       "    }\n",
       "\n",
       "    .dataframe tbody tr th {\n",
       "        vertical-align: top;\n",
       "    }\n",
       "\n",
       "    .dataframe thead th {\n",
       "        text-align: right;\n",
       "    }\n",
       "</style>\n",
       "<table border=\"1\" class=\"dataframe\">\n",
       "  <thead>\n",
       "    <tr style=\"text-align: right;\">\n",
       "      <th></th>\n",
       "      <th>total_orders</th>\n",
       "      <th>avg_order_value</th>\n",
       "      <th>total_spent</th>\n",
       "      <th>avg_quantity_per_order</th>\n",
       "      <th>avg_rating</th>\n",
       "      <th>tenure_days</th>\n",
       "      <th>cluster</th>\n",
       "    </tr>\n",
       "  </thead>\n",
       "  <tbody>\n",
       "    <tr>\n",
       "      <th>0</th>\n",
       "      <td>2</td>\n",
       "      <td>2863.020000</td>\n",
       "      <td>8306.10</td>\n",
       "      <td>2.500000</td>\n",
       "      <td>2.000000</td>\n",
       "      <td>328.0</td>\n",
       "      <td>1</td>\n",
       "    </tr>\n",
       "    <tr>\n",
       "      <th>1</th>\n",
       "      <td>0</td>\n",
       "      <td>2192.695847</td>\n",
       "      <td>0.00</td>\n",
       "      <td>2.014493</td>\n",
       "      <td>3.339620</td>\n",
       "      <td>461.0</td>\n",
       "      <td>1</td>\n",
       "    </tr>\n",
       "    <tr>\n",
       "      <th>2</th>\n",
       "      <td>3</td>\n",
       "      <td>2614.966667</td>\n",
       "      <td>9374.73</td>\n",
       "      <td>1.333333</td>\n",
       "      <td>3.666667</td>\n",
       "      <td>220.0</td>\n",
       "      <td>0</td>\n",
       "    </tr>\n",
       "    <tr>\n",
       "      <th>3</th>\n",
       "      <td>0</td>\n",
       "      <td>2192.695847</td>\n",
       "      <td>0.00</td>\n",
       "      <td>2.014493</td>\n",
       "      <td>3.339620</td>\n",
       "      <td>166.0</td>\n",
       "      <td>1</td>\n",
       "    </tr>\n",
       "    <tr>\n",
       "      <th>4</th>\n",
       "      <td>4</td>\n",
       "      <td>3692.192500</td>\n",
       "      <td>6700.00</td>\n",
       "      <td>1.500000</td>\n",
       "      <td>3.500000</td>\n",
       "      <td>581.0</td>\n",
       "      <td>0</td>\n",
       "    </tr>\n",
       "  </tbody>\n",
       "</table>\n",
       "</div>"
      ],
      "text/plain": [
       "   total_orders  avg_order_value  total_spent  avg_quantity_per_order  \\\n",
       "0             2      2863.020000      8306.10                2.500000   \n",
       "1             0      2192.695847         0.00                2.014493   \n",
       "2             3      2614.966667      9374.73                1.333333   \n",
       "3             0      2192.695847         0.00                2.014493   \n",
       "4             4      3692.192500      6700.00                1.500000   \n",
       "\n",
       "   avg_rating  tenure_days  cluster  \n",
       "0    2.000000        328.0        1  \n",
       "1    3.339620        461.0        1  \n",
       "2    3.666667        220.0        0  \n",
       "3    3.339620        166.0        1  \n",
       "4    3.500000        581.0        0  "
      ]
     },
     "execution_count": 52,
     "metadata": {},
     "output_type": "execute_result"
    }
   ],
   "source": [
    "# Display first few rows of the clustered dataset\n",
    "cluster_df.head()"
   ]
  },
  {
   "cell_type": "code",
   "execution_count": 53,
   "metadata": {},
   "outputs": [
    {
     "data": {
      "text/plain": [
       "1    1152\n",
       "0     789\n",
       "2     559\n",
       "Name: cluster, dtype: int64"
      ]
     },
     "execution_count": 53,
     "metadata": {},
     "output_type": "execute_result"
    }
   ],
   "source": [
    "cluster_df.cluster.value_counts()"
   ]
  },
  {
   "cell_type": "code",
   "execution_count": 54,
   "metadata": {},
   "outputs": [
    {
     "data": {
      "image/png": "[encoded data removed]",
      "text/plain": [
       "<Figure size 800x500 with 1 Axes>"
      ]
     },
     "metadata": {},
     "output_type": "display_data"
    }
   ],
   "source": [
    "# Box plot to compare avg order value per cluster\n",
    "plt.figure(figsize=(8, 5))\n",
    "sns.boxplot(x=cluster_df[\"cluster\"], y=cluster_df[\"avg_order_value\"], palette=\"viridis\")\n",
    "plt.xlabel(\"Cluster\")\n",
    "plt.ylabel(\"Average Order Value\")\n",
    "plt.title(\"Avg Order Value Across Customer Segments\")\n",
    "plt.show()"
   ]
  },
  {
   "cell_type": "code",
   "execution_count": 55,
   "metadata": {},
   "outputs": [
    {
     "data": {
      "image/png": "[encoded data removed]",
      "text/plain": [
       "<Figure size 800x500 with 1 Axes>"
      ]
     },
     "metadata": {},
     "output_type": "display_data"
    }
   ],
   "source": [
    "plt.figure(figsize=(8, 5))\n",
    "sns.countplot(x=cluster_df[\"cluster\"], palette=\"viridis\")\n",
    "plt.xlabel(\"Cluster\")\n",
    "plt.ylabel(\"Number of Customers\")\n",
    "plt.title(\"Customer Distribution Across Clusters\")\n",
    "plt.show()"
   ]
  },
  {
   "cell_type": "code",
   "execution_count": 56,
   "metadata": {},
   "outputs": [
    {
     "name": "stdout",
     "output_type": "stream",
     "text": [
      "Silhouette Score: 0.175\n"
     ]
    }
   ],
   "source": [
    "from sklearn.metrics import silhouette_score\n",
    "\n",
    "#silhouette score\n",
    "silhouette_avg = silhouette_score(cluster_scaled, cluster_df[\"cluster\"])\n",
    "print(f\"Silhouette Score: {silhouette_avg:.3f}\")\n"
   ]
  },
  {
   "cell_type": "code",
   "execution_count": 57,
   "metadata": {},
   "outputs": [
    {
     "name": "stdout",
     "output_type": "stream",
     "text": [
      "DBSCAN Silhouette Score: -0.311\n"
     ]
    }
   ],
   "source": [
    "from sklearn.cluster import DBSCAN\n",
    "\n",
    "dbscan = DBSCAN(eps=0.5, min_samples=5)  # Tune these hyperparameters\n",
    "labels_dbscan = dbscan.fit_predict(cluster_scaled)\n",
    "\n",
    "# Compute Silhouette Score for DBSCAN\n",
    "score_dbscan = silhouette_score(cluster_scaled, labels_dbscan) if len(set(labels_dbscan)) > 1 else -1\n",
    "print(f\"DBSCAN Silhouette Score: {score_dbscan:.3f}\")"
   ]
  },
  {
   "cell_type": "code",
   "execution_count": 58,
   "metadata": {},
   "outputs": [
    {
     "name": "stdout",
     "output_type": "stream",
     "text": [
      "k=2, Silhouette Score: 0.209\n",
      "k=3, Silhouette Score: 0.175\n",
      "k=4, Silhouette Score: 0.166\n",
      "k=5, Silhouette Score: 0.171\n",
      "k=6, Silhouette Score: 0.170\n",
      "k=7, Silhouette Score: 0.174\n",
      "k=8, Silhouette Score: 0.173\n",
      "k=9, Silhouette Score: 0.203\n",
      "k=10, Silhouette Score: 0.178\n",
      "\n",
      "Best k: 2 with Silhouette Score: 0.209\n"
     ]
    }
   ],
   "source": [
    "best_k = None\n",
    "best_score = -1\n",
    "\n",
    "for k in range(2, 11):\n",
    "    kmeans = KMeans(n_clusters=k, random_state=42, n_init=10)\n",
    "    labels = kmeans.fit_predict(cluster_scaled)\n",
    "    score = silhouette_score(cluster_scaled, labels)\n",
    "    \n",
    "    print(f\"k={k}, Silhouette Score: {score:.3f}\")\n",
    "    \n",
    "    if score > best_score:\n",
    "        best_score = score\n",
    "        best_k = k\n",
    "\n",
    "print(f\"\\nBest k: {best_k} with Silhouette Score: {best_score:.3f}\")"
   ]
  },
  {
   "cell_type": "code",
   "execution_count": 59,
   "metadata": {},
   "outputs": [
    {
     "name": "stdout",
     "output_type": "stream",
     "text": [
      "                  Feature  Importance\n",
      "2             total_spent    0.564747\n",
      "3  avg_quantity_per_order    0.305514\n",
      "1         avg_order_value    0.040444\n",
      "0            total_orders    0.036308\n",
      "4              avg_rating    0.035948\n",
      "5             tenure_days    0.017038\n"
     ]
    }
   ],
   "source": [
    "from sklearn.ensemble import RandomForestRegressor\n",
    "\n",
    "rf = RandomForestRegressor()\n",
    "rf.fit(cluster_scaled, cluster_df[\"cluster\"])\n",
    "importances = rf.feature_importances_\n",
    "\n",
    "# Show feature importance\n",
    "feature_importance = pd.DataFrame({\"Feature\": cluster_df.columns[:-1], \"Importance\": importances})\n",
    "feature_importance = feature_importance.sort_values(by=\"Importance\", ascending=False)\n",
    "print(feature_importance)"
   ]
  },
  {
   "cell_type": "code",
   "execution_count": null,
   "metadata": {},
   "outputs": [],
   "source": [
    "# Save the clustered dataset\n",
    "cluster_df.to_csv(\"clustered_customer_segments.csv\", index=False)"
   ]
  }
 ],
 "metadata": {
  "kernelspec": {
   "display_name": "base",
   "language": "python",
   "name": "python3"
  },
  "language_info": {
   "codemirror_mode": {
    "name": "ipython",
    "version": 3
   },
   "file_extension": ".py",
   "mimetype": "text/x-python",
   "name": "python",
   "nbconvert_exporter": "python",
   "pygments_lexer": "ipython3",
   "version": "3.11.4"
  },
  "orig_nbformat": 4,
  "vscode": {
   "interpreter": {
    "hash": "5d13fcd122f9bf4e1c65d5c83921c711df86d65f24857f3d36168027b977a8c3"
   }
  }
 },
 "nbformat": 4,
 "nbformat_minor": 2
}
